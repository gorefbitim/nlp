{
 "cells": [
  {
   "cell_type": "code",
   "execution_count": 1,
   "metadata": {},
   "outputs": [],
   "source": [
    "import pandas as pd\n",
    "import matplotlib.pyplot as plt\n"
   ]
  },
  {
   "cell_type": "code",
   "execution_count": 2,
   "metadata": {},
   "outputs": [],
   "source": [
    "fn = 'data/trump_20200530.csv'"
   ]
  },
  {
   "cell_type": "code",
   "execution_count": 3,
   "metadata": {},
   "outputs": [],
   "source": [
    "data = pd.read_csv(fn)"
   ]
  },
  {
   "cell_type": "code",
   "execution_count": 4,
   "metadata": {},
   "outputs": [
    {
     "data": {
      "text/html": [
       "<div>\n",
       "<style scoped>\n",
       "    .dataframe tbody tr th:only-of-type {\n",
       "        vertical-align: middle;\n",
       "    }\n",
       "\n",
       "    .dataframe tbody tr th {\n",
       "        vertical-align: top;\n",
       "    }\n",
       "\n",
       "    .dataframe thead th {\n",
       "        text-align: right;\n",
       "    }\n",
       "</style>\n",
       "<table border=\"1\" class=\"dataframe\">\n",
       "  <thead>\n",
       "    <tr style=\"text-align: right;\">\n",
       "      <th></th>\n",
       "      <th>source</th>\n",
       "      <th>text</th>\n",
       "      <th>created_at</th>\n",
       "      <th>retweet_count</th>\n",
       "      <th>favorite_count</th>\n",
       "      <th>is_retweet</th>\n",
       "      <th>id_str</th>\n",
       "    </tr>\n",
       "  </thead>\n",
       "  <tbody>\n",
       "    <tr>\n",
       "      <th>0</th>\n",
       "      <td>Twitter for iPhone</td>\n",
       "      <td>RT @ScottAdamsSays: Malaria drug and zinc the ...</td>\n",
       "      <td>05-30-2020 03:26:31</td>\n",
       "      <td>10566</td>\n",
       "      <td>0</td>\n",
       "      <td>True</td>\n",
       "      <td>1266571665204527109</td>\n",
       "    </tr>\n",
       "    <tr>\n",
       "      <th>1</th>\n",
       "      <td>Twitter for iPhone</td>\n",
       "      <td>RT @YoungDems4Trump: In Democrat cities you ca...</td>\n",
       "      <td>05-30-2020 03:21:41</td>\n",
       "      <td>22320</td>\n",
       "      <td>0</td>\n",
       "      <td>True</td>\n",
       "      <td>1266570449431003138</td>\n",
       "    </tr>\n",
       "    <tr>\n",
       "      <th>2</th>\n",
       "      <td>Twitter for iPhone</td>\n",
       "      <td>RT @YoungDems4Trump: So sad. This poor busines...</td>\n",
       "      <td>05-30-2020 03:21:32</td>\n",
       "      <td>23961</td>\n",
       "      <td>0</td>\n",
       "      <td>True</td>\n",
       "      <td>1266570411678019584</td>\n",
       "    </tr>\n",
       "    <tr>\n",
       "      <th>3</th>\n",
       "      <td>Twitter for iPhone</td>\n",
       "      <td>Time for a change! #2020 https://t.co/AECy2GBfys</td>\n",
       "      <td>05-30-2020 03:20:18</td>\n",
       "      <td>42879</td>\n",
       "      <td>164022</td>\n",
       "      <td>False</td>\n",
       "      <td>1266570099454103553</td>\n",
       "    </tr>\n",
       "    <tr>\n",
       "      <th>4</th>\n",
       "      <td>Twitter for iPhone</td>\n",
       "      <td>RT @TallahForTrump: Trump spoke at my church i...</td>\n",
       "      <td>05-30-2020 03:19:01</td>\n",
       "      <td>36563</td>\n",
       "      <td>0</td>\n",
       "      <td>True</td>\n",
       "      <td>1266569778770182151</td>\n",
       "    </tr>\n",
       "  </tbody>\n",
       "</table>\n",
       "</div>"
      ],
      "text/plain": [
       "               source                                               text  \\\n",
       "0  Twitter for iPhone  RT @ScottAdamsSays: Malaria drug and zinc the ...   \n",
       "1  Twitter for iPhone  RT @YoungDems4Trump: In Democrat cities you ca...   \n",
       "2  Twitter for iPhone  RT @YoungDems4Trump: So sad. This poor busines...   \n",
       "3  Twitter for iPhone   Time for a change! #2020 https://t.co/AECy2GBfys   \n",
       "4  Twitter for iPhone  RT @TallahForTrump: Trump spoke at my church i...   \n",
       "\n",
       "            created_at  retweet_count  favorite_count is_retweet  \\\n",
       "0  05-30-2020 03:26:31          10566               0       True   \n",
       "1  05-30-2020 03:21:41          22320               0       True   \n",
       "2  05-30-2020 03:21:32          23961               0       True   \n",
       "3  05-30-2020 03:20:18          42879          164022      False   \n",
       "4  05-30-2020 03:19:01          36563               0       True   \n",
       "\n",
       "                id_str  \n",
       "0  1266571665204527109  \n",
       "1  1266570449431003138  \n",
       "2  1266570411678019584  \n",
       "3  1266570099454103553  \n",
       "4  1266569778770182151  "
      ]
     },
     "execution_count": 4,
     "metadata": {},
     "output_type": "execute_result"
    }
   ],
   "source": [
    "data.head()"
   ]
  },
  {
   "cell_type": "code",
   "execution_count": 6,
   "metadata": {},
   "outputs": [
    {
     "data": {
      "image/png": "[encoded data removed]",
      "text/plain": [
       "<Figure size 432x288 with 1 Axes>"
      ]
     },
     "metadata": {
      "needs_background": "light"
     },
     "output_type": "display_data"
    }
   ],
   "source": [
    "f = 'is_retweet'\n",
    "\n",
    "y = data[f].value_counts()\n",
    "y.plot(kind='bar', color=['green', 'orange', 'purple'], xlabel=f, ylabel=\"Number of leads\")\n",
    "\n",
    "for i,v in enumerate(y):\n",
    "    plt.annotate(v, xy=(i,v), ha='center', va='bottom')"
   ]
  }
 ],
 "metadata": {
  "kernelspec": {
   "display_name": "Python 3",
   "language": "python",
   "name": "python3"
  },
  "language_info": {
   "codemirror_mode": {
    "name": "ipython",
    "version": 3
   },
   "file_extension": ".py",
   "mimetype": "text/x-python",
   "name": "python",
   "nbconvert_exporter": "python",
   "pygments_lexer": "ipython3",
   "version": "3.7.5"
  }
 },
 "nbformat": 4,
 "nbformat_minor": 2
}
