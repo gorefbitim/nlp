{
 "cells": [
  {
   "cell_type": "code",
   "execution_count": 1,
   "metadata": {},
   "outputs": [],
   "source": [
    "# !pip install pytorch-transformers"
   ]
  },
  {
   "cell_type": "code",
   "execution_count": 2,
   "metadata": {},
   "outputs": [],
   "source": [
    "import torch\n",
    "from pytorch_transformers import GPT2Tokenizer\n",
    "from pytorch_transformers import GPT2LMHeadModel"
   ]
  },
  {
   "cell_type": "code",
   "execution_count": 3,
   "metadata": {},
   "outputs": [],
   "source": [
    "INPUT_TEXT = \"We work on a vaccine that would solve the problem of\""
   ]
  },
  {
   "cell_type": "code",
   "execution_count": 4,
   "metadata": {},
   "outputs": [
    {
     "name": "stdout",
     "output_type": "stream",
     "text": [
      "Done\n",
      "CPU times: user 2.77 s, sys: 949 ms, total: 3.72 s\n",
      "Wall time: 6.76 s\n"
     ]
    }
   ],
   "source": [
    "%%time\n",
    "tokenizer = GPT2Tokenizer.from_pretrained('gpt2')\n",
    "model     = GPT2LMHeadModel.from_pretrained('gpt2')\n",
    "model.eval()\n",
    "print(\"Done\")"
   ]
  },
  {
   "cell_type": "code",
   "execution_count": 5,
   "metadata": {},
   "outputs": [],
   "source": [
    "indexed_tokens = tokenizer.encode(INPUT_TEXT)\n",
    "tokens_tensor = torch.tensor([indexed_tokens])"
   ]
  },
  {
   "cell_type": "markdown",
   "metadata": {},
   "source": [
    "#### No back propagation, as we use pretrained model, so we use torch.no_grad to save memory by not constructing the compute graph during this forward pass. "
   ]
  },
  {
   "cell_type": "code",
   "execution_count": 6,
   "metadata": {},
   "outputs": [],
   "source": [
    "with torch.no_grad():\n",
    "    last_hidden_states = model(tokens_tensor)\n",
    "    result_tensor = last_hidden_states[0][0, -1, :]"
   ]
  },
  {
   "attachments": {
    "image.png": {
     "image/png": "[encoded data removed]"
    }
   },
   "cell_type": "markdown",
   "metadata": {},
   "source": [
    "<img src=\"image.png\"  />\n"
   ]
  },
  {
   "cell_type": "markdown",
   "metadata": {},
   "source": [
    "### Decode result tensor"
   ]
  },
  {
   "cell_type": "code",
   "execution_count": 8,
   "metadata": {},
   "outputs": [
    {
     "name": "stdout",
     "output_type": "stream",
     "text": [
      "Top result:\n",
      " We work on a vaccine that would solve the problem of autism\n"
     ]
    }
   ],
   "source": [
    "print(\"Top result:\")\n",
    "print(tokenizer.decode(indexed_tokens + [torch.argmax(result_tensor).item()]))"
   ]
  },
  {
   "cell_type": "code",
   "execution_count": 9,
   "metadata": {},
   "outputs": [
    {
     "name": "stdout",
     "output_type": "stream",
     "text": [
      "Top 20 options:\n",
      " a\n",
      " the\n",
      " what\n",
      " how\n",
      " low\n",
      " global\n",
      " childhood\n",
      " HIV\n",
      " vaccine\n",
      " Ebola\n",
      " autism\n",
      " immunity\n",
      " vaccines\n",
      " AIDS\n",
      " vaccination\n",
      " infectious\n",
      " influenza\n",
      " measles\n",
      " HPV\n",
      " cervical\n",
      " polio\n"
     ]
    }
   ],
   "source": [
    "print(\"Top 20 options:\")\n",
    "t = sorted(list(result_tensor), reverse=True)[20]\n",
    "print('\\n'.join(list(tokenizer.decode([i]) for i,r in enumerate(result_tensor) if r.item() >= t) ))"
   ]
  },
  {
   "cell_type": "code",
   "execution_count": null,
   "metadata": {},
   "outputs": [],
   "source": []
  }
 ],
 "metadata": {
  "kernelspec": {
   "display_name": "Python 3",
   "language": "python",
   "name": "python3"
  },
  "language_info": {
   "codemirror_mode": {
    "name": "ipython",
    "version": 3
   },
   "file_extension": ".py",
   "mimetype": "text/x-python",
   "name": "python",
   "nbconvert_exporter": "python",
   "pygments_lexer": "ipython3",
   "version": "3.7.5"
  }
 },
 "nbformat": 4,
 "nbformat_minor": 2
}
