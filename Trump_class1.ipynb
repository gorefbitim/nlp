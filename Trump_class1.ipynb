{
  "nbformat": 4,
  "nbformat_minor": 0,
  "metadata": {
    "colab": {
      "name": "Trump_class1.ipynb",
      "provenance": [],
      "collapsed_sections": []
    },
    "kernelspec": {
      "name": "python3",
      "display_name": "Python 3"
    }
  },
  "cells": [
    {
      "cell_type": "code",
      "metadata": {
        "id": "g6_qGzrETkHY"
      },
      "source": [
        "import pandas as pd\n",
        "import matplotlib.pyplot as plt"
      ],
      "execution_count": 1,
      "outputs": []
    },
    {
      "cell_type": "code",
      "metadata": {
        "id": "uoTfcPIOUfKO"
      },
      "source": [
        "filename = 'https://raw.githubusercontent.com/gorefbitim/nlp/master/data/trump_20200530.csv'"
      ],
      "execution_count": 2,
      "outputs": []
    },
    {
      "cell_type": "code",
      "metadata": {
        "id": "_tgYwRP2YnMu"
      },
      "source": [
        "data = pd.read_csv(filename)"
      ],
      "execution_count": 3,
      "outputs": []
    },
    {
      "cell_type": "code",
      "metadata": {
        "colab": {
          "base_uri": "https://localhost:8080/",
          "height": 204
        },
        "id": "1JAT2Y-NZELr",
        "outputId": "855c736a-321f-4524-dc3f-b198d184e0f3"
      },
      "source": [
        "data.head()"
      ],
      "execution_count": 4,
      "outputs": [
        {
          "output_type": "execute_result",
          "data": {
            "text/html": [
              "<div>\n",
              "<style scoped>\n",
              "    .dataframe tbody tr th:only-of-type {\n",
              "        vertical-align: middle;\n",
              "    }\n",
              "\n",
              "    .dataframe tbody tr th {\n",
              "        vertical-align: top;\n",
              "    }\n",
              "\n",
              "    .dataframe thead th {\n",
              "        text-align: right;\n",
              "    }\n",
              "</style>\n",
              "<table border=\"1\" class=\"dataframe\">\n",
              "  <thead>\n",
              "    <tr style=\"text-align: right;\">\n",
              "      <th></th>\n",
              "      <th>source</th>\n",
              "      <th>text</th>\n",
              "      <th>created_at</th>\n",
              "      <th>retweet_count</th>\n",
              "      <th>favorite_count</th>\n",
              "      <th>is_retweet</th>\n",
              "      <th>id_str</th>\n",
              "    </tr>\n",
              "  </thead>\n",
              "  <tbody>\n",
              "    <tr>\n",
              "      <th>0</th>\n",
              "      <td>Twitter for iPhone</td>\n",
              "      <td>RT @ScottAdamsSays: Malaria drug and zinc the ...</td>\n",
              "      <td>05-30-2020 03:26:31</td>\n",
              "      <td>10566</td>\n",
              "      <td>0</td>\n",
              "      <td>True</td>\n",
              "      <td>1266571665204527109</td>\n",
              "    </tr>\n",
              "    <tr>\n",
              "      <th>1</th>\n",
              "      <td>Twitter for iPhone</td>\n",
              "      <td>RT @YoungDems4Trump: In Democrat cities you ca...</td>\n",
              "      <td>05-30-2020 03:21:41</td>\n",
              "      <td>22320</td>\n",
              "      <td>0</td>\n",
              "      <td>True</td>\n",
              "      <td>1266570449431003138</td>\n",
              "    </tr>\n",
              "    <tr>\n",
              "      <th>2</th>\n",
              "      <td>Twitter for iPhone</td>\n",
              "      <td>RT @YoungDems4Trump: So sad. This poor busines...</td>\n",
              "      <td>05-30-2020 03:21:32</td>\n",
              "      <td>23961</td>\n",
              "      <td>0</td>\n",
              "      <td>True</td>\n",
              "      <td>1266570411678019584</td>\n",
              "    </tr>\n",
              "    <tr>\n",
              "      <th>3</th>\n",
              "      <td>Twitter for iPhone</td>\n",
              "      <td>Time for a change! #2020 https://t.co/AECy2GBfys</td>\n",
              "      <td>05-30-2020 03:20:18</td>\n",
              "      <td>42879</td>\n",
              "      <td>164022</td>\n",
              "      <td>False</td>\n",
              "      <td>1266570099454103553</td>\n",
              "    </tr>\n",
              "    <tr>\n",
              "      <th>4</th>\n",
              "      <td>Twitter for iPhone</td>\n",
              "      <td>RT @TallahForTrump: Trump spoke at my church i...</td>\n",
              "      <td>05-30-2020 03:19:01</td>\n",
              "      <td>36563</td>\n",
              "      <td>0</td>\n",
              "      <td>True</td>\n",
              "      <td>1266569778770182151</td>\n",
              "    </tr>\n",
              "  </tbody>\n",
              "</table>\n",
              "</div>"
            ],
            "text/plain": [
              "               source  ...               id_str\n",
              "0  Twitter for iPhone  ...  1266571665204527109\n",
              "1  Twitter for iPhone  ...  1266570449431003138\n",
              "2  Twitter for iPhone  ...  1266570411678019584\n",
              "3  Twitter for iPhone  ...  1266570099454103553\n",
              "4  Twitter for iPhone  ...  1266569778770182151\n",
              "\n",
              "[5 rows x 7 columns]"
            ]
          },
          "metadata": {
            "tags": []
          },
          "execution_count": 4
        }
      ]
    },
    {
      "cell_type": "code",
      "metadata": {
        "colab": {
          "base_uri": "https://localhost:8080/",
          "height": 295
        },
        "id": "mmFXxf7YZEVk",
        "outputId": "9ebbe394-3c27-475d-aa18-52951c05ef1f"
      },
      "source": [
        "f = 'is_retweet'\n",
        "\n",
        "y = data[f].value_counts()\n",
        "y.plot(kind='bar', color=['green', 'orange', 'purple'], xlabel=f, ylabel=\"Number of leads\")\n",
        "\n",
        "for i,v in enumerate(y):\n",
        "    plt.annotate(v, xy=(i,v), ha='center', va='bottom')\n"
      ],
      "execution_count": 5,
      "outputs": [
        {
          "output_type": "display_data",
          "data": {
            "image/png": "[encoded data removed]",
            "text/plain": [
              "<Figure size 432x288 with 1 Axes>"
            ]
          },
          "metadata": {
            "tags": [],
            "needs_background": "light"
          }
        }
      ]
    },
    {
      "cell_type": "code",
      "metadata": {
        "id": "3pkZgEwfZEsd"
      },
      "source": [
        "data['l'] = data.text.str.len()"
      ],
      "execution_count": 12,
      "outputs": []
    },
    {
      "cell_type": "code",
      "metadata": {
        "colab": {
          "base_uri": "https://localhost:8080/",
          "height": 282
        },
        "id": "VQa7LXSAb2kY",
        "outputId": "7b131157-3dbf-4d38-ca06-f3fcbbc6b947"
      },
      "source": [
        "data.boxplot('l')"
      ],
      "execution_count": 13,
      "outputs": [
        {
          "output_type": "execute_result",
          "data": {
            "text/plain": [
              "<matplotlib.axes._subplots.AxesSubplot at 0x7ff963416490>"
            ]
          },
          "metadata": {
            "tags": []
          },
          "execution_count": 13
        },
        {
          "output_type": "display_data",
          "data": {
            "image/png": "[encoded data removed]",
            "text/plain": [
              "<Figure size 432x288 with 1 Axes>"
            ]
          },
          "metadata": {
            "tags": [],
            "needs_background": "light"
          }
        }
      ]
    },
    {
      "cell_type": "code",
      "metadata": {
        "id": "yiPCJmkweJQd"
      },
      "source": [
        ""
      ],
      "execution_count": null,
      "outputs": []
    }
  ]
}