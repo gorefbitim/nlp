{
 "cells": [
  {
   "cell_type": "markdown",
   "metadata": {},
   "source": [
    "### Some spells"
   ]
  },
  {
   "cell_type": "code",
   "execution_count": 1,
   "metadata": {},
   "outputs": [],
   "source": [
    "import numpy as np\n",
    "from sklearn.feature_extraction.text import CountVectorizer\n",
    "from sklearn.feature_extraction.text import TfidfTransformer\n",
    "from sklearn.datasets import fetch_20newsgroups\n",
    "from sklearn.naive_bayes import MultinomialNB\n",
    "from sklearn.model_selection import train_test_split\n",
    "from sklearn.metrics import plot_confusion_matrix\n",
    "\n",
    "import matplotlib.pyplot as plt"
   ]
  },
  {
   "cell_type": "markdown",
   "metadata": {},
   "source": [
    "### Parameters"
   ]
  },
  {
   "cell_type": "code",
   "execution_count": 2,
   "metadata": {},
   "outputs": [],
   "source": [
    "categories = ['alt.atheism', 'soc.religion.christian','comp.graphics', 'sci.med']\n",
    "RANDOM_SEED = 42\n",
    "TEST_SET_FRACTION = 0.33\n",
    "NUMBER_OF_TOP_WORDS = -100"
   ]
  },
  {
   "cell_type": "markdown",
   "metadata": {},
   "source": [
    "### Sample Data - load and exploe data"
   ]
  },
  {
   "cell_type": "code",
   "execution_count": 3,
   "metadata": {},
   "outputs": [],
   "source": [
    "twenty_train = fetch_20newsgroups(subset='all',\n",
    "    categories=categories, shuffle=True, random_state=RANDOM_SEED)"
   ]
  },
  {
   "cell_type": "code",
   "execution_count": 4,
   "metadata": {},
   "outputs": [
    {
     "data": {
      "text/plain": [
       "['alt.atheism', 'comp.graphics', 'sci.med', 'soc.religion.christian']"
      ]
     },
     "execution_count": 4,
     "metadata": {},
     "output_type": "execute_result"
    }
   ],
   "source": [
    "twenty_train.target_names"
   ]
  },
  {
   "cell_type": "code",
   "execution_count": 5,
   "metadata": {},
   "outputs": [
    {
     "name": "stdout",
     "output_type": "stream",
     "text": [
      "Total of 3759 files\n",
      "From: geb@cs.pitt.edu (Gordon Banks)\n",
      "Subject: Re: \"CAN'T BREATHE\"\n",
      "Article-I.D.: pitt.19440\n",
      "sci.med\n"
     ]
    }
   ],
   "source": [
    "print(f'Total of {len(twenty_train.filenames)} files')\n",
    "print(\"\\n\".join(twenty_train.data[0].split(\"\\n\")[:3]))\n",
    "print(twenty_train.target_names[twenty_train.target[0]])\n"
   ]
  },
  {
   "cell_type": "code",
   "execution_count": 6,
   "metadata": {},
   "outputs": [
    {
     "data": {
      "text/plain": [
       "array([2, 3, 3, 1, 2, 3, 2, 1, 1, 1])"
      ]
     },
     "execution_count": 6,
     "metadata": {},
     "output_type": "execute_result"
    }
   ],
   "source": [
    "twenty_train.target[:10]"
   ]
  },
  {
   "cell_type": "code",
   "execution_count": 7,
   "metadata": {},
   "outputs": [
    {
     "name": "stdout",
     "output_type": "stream",
     "text": [
      "sci.med\n",
      "soc.religion.christian\n",
      "soc.religion.christian\n",
      "comp.graphics\n",
      "sci.med\n",
      "soc.religion.christian\n",
      "sci.med\n",
      "comp.graphics\n",
      "comp.graphics\n",
      "comp.graphics\n"
     ]
    }
   ],
   "source": [
    "for t in twenty_train.target[:10]:\n",
    "    print(twenty_train.target_names[t])"
   ]
  },
  {
   "cell_type": "markdown",
   "metadata": {},
   "source": [
    "### Train / Test (Overfit)"
   ]
  },
  {
   "cell_type": "code",
   "execution_count": 8,
   "metadata": {},
   "outputs": [],
   "source": [
    "X_train, X_test, y_train, y_test = train_test_split(\n",
    "    twenty_train.data, twenty_train.target, test_size=TEST_SET_FRACTION, random_state=RANDOM_SEED)"
   ]
  },
  {
   "cell_type": "code",
   "execution_count": 9,
   "metadata": {},
   "outputs": [
    {
     "name": "stdout",
     "output_type": "stream",
     "text": [
      "We have 2518 training documents and 1241 in the test set\n"
     ]
    }
   ],
   "source": [
    "print(f'We have {len(X_train)} training documents and {len(X_test)} in the test set')"
   ]
  },
  {
   "cell_type": "markdown",
   "metadata": {},
   "source": [
    "### Basic Test Pipeline: one hot vector , TF/DF , Naive Bayes"
   ]
  },
  {
   "cell_type": "code",
   "execution_count": 10,
   "metadata": {},
   "outputs": [],
   "source": [
    "from sklearn.pipeline import Pipeline\n",
    "text_clf = Pipeline([\n",
    "    ('vect', CountVectorizer()),\n",
    "    ('tfidf', TfidfTransformer()),\n",
    "    ('clf', MultinomialNB()),\n",
    "])"
   ]
  },
  {
   "cell_type": "code",
   "execution_count": 11,
   "metadata": {},
   "outputs": [
    {
     "data": {
      "text/plain": [
       "Pipeline(memory=None,\n",
       "         steps=[('vect',\n",
       "                 CountVectorizer(analyzer='word', binary=False,\n",
       "                                 decode_error='strict',\n",
       "                                 dtype=<class 'numpy.int64'>, encoding='utf-8',\n",
       "                                 input='content', lowercase=True, max_df=1.0,\n",
       "                                 max_features=None, min_df=1,\n",
       "                                 ngram_range=(1, 1), preprocessor=None,\n",
       "                                 stop_words=None, strip_accents=None,\n",
       "                                 token_pattern='(?u)\\\\b\\\\w\\\\w+\\\\b',\n",
       "                                 tokenizer=None, vocabulary=None)),\n",
       "                ('tfidf',\n",
       "                 TfidfTransformer(norm='l2', smooth_idf=True,\n",
       "                                  sublinear_tf=False, use_idf=True)),\n",
       "                ('clf',\n",
       "                 MultinomialNB(alpha=1.0, class_prior=None, fit_prior=True))],\n",
       "         verbose=False)"
      ]
     },
     "execution_count": 11,
     "metadata": {},
     "output_type": "execute_result"
    }
   ],
   "source": [
    "text_clf.fit(X_train, y_train)"
   ]
  },
  {
   "cell_type": "code",
   "execution_count": 12,
   "metadata": {},
   "outputs": [],
   "source": [
    "count_vect = text_clf[0]\n",
    "clf        = text_clf[2]"
   ]
  },
  {
   "cell_type": "code",
   "execution_count": 13,
   "metadata": {},
   "outputs": [
    {
     "data": {
      "text/plain": [
       "5353"
      ]
     },
     "execution_count": 13,
     "metadata": {},
     "output_type": "execute_result"
    }
   ],
   "source": [
    "count_vect.vocabulary_.get(u'algorithm')"
   ]
  },
  {
   "cell_type": "code",
   "execution_count": 14,
   "metadata": {},
   "outputs": [
    {
     "name": "stdout",
     "output_type": "stream",
     "text": [
      "'God is love' => soc.religion.christian\n",
      "'OpenGL on the GPU is fast' => comp.graphics\n",
      "'disease disease disease disease disease' => sci.med\n"
     ]
    }
   ],
   "source": [
    "docs_new = ['God is love', 'OpenGL on the GPU is fast','disease disease disease disease disease']\n",
    "\n",
    "predicted = text_clf.predict(docs_new)\n",
    "\n",
    "for doc, category in zip(docs_new, predicted):\n",
    "    print('%r => %s' % (doc, twenty_train.target_names[category]))\n"
   ]
  },
  {
   "cell_type": "markdown",
   "metadata": {},
   "source": [
    "### Confusion Matrix"
   ]
  },
  {
   "cell_type": "code",
   "execution_count": 15,
   "metadata": {},
   "outputs": [
    {
     "name": "stdout",
     "output_type": "stream",
     "text": [
      "Confusion matrix, without normalization\n",
      "[[202   0   3  76]\n",
      " [  1 304   1  18]\n",
      " [  0   5 299  22]\n",
      " [  0   2   2 306]]\n",
      "Normalized confusion matrix\n",
      "[[0.72 0.   0.01 0.27]\n",
      " [0.   0.94 0.   0.06]\n",
      " [0.   0.02 0.92 0.07]\n",
      " [0.   0.01 0.01 0.99]]\n"
     ]
    },
    {
     "data": {
      "image/png": "[encoded data removed]",
      "text/plain": [
       "<Figure size 432x288 with 2 Axes>"
      ]
     },
     "metadata": {
      "needs_background": "light"
     },
     "output_type": "display_data"
    },
    {
     "data": {
      "image/png": "[encoded data removed]",
      "text/plain": [
       "<Figure size 432x288 with 2 Axes>"
      ]
     },
     "metadata": {
      "needs_background": "light"
     },
     "output_type": "display_data"
    }
   ],
   "source": [
    "np.set_printoptions(precision=2)\n",
    "\n",
    "# Plot non-normalized confusion matrix\n",
    "titles_options = [(\"Confusion matrix, without normalization\", None),\n",
    "                  (\"Normalized confusion matrix\", 'true')]\n",
    "\n",
    "for title, normalize in titles_options:\n",
    "    disp = plot_confusion_matrix(text_clf, X_test, y_test,\n",
    "                                 display_labels=twenty_train.target_names,\n",
    "                                 cmap=plt.cm.Blues,\n",
    "                                 normalize=normalize)\n",
    "    disp.ax_.set_title(title)\n",
    "\n",
    "    print(title)\n",
    "    print(disp.confusion_matrix)\n",
    "\n",
    "plt.show()\n"
   ]
  },
  {
   "cell_type": "markdown",
   "metadata": {},
   "source": [
    "### Show the feature"
   ]
  },
  {
   "cell_type": "code",
   "execution_count": 16,
   "metadata": {},
   "outputs": [
    {
     "name": "stdout",
     "output_type": "stream",
     "text": [
      "alt.atheism\n",
      "['about', 'all', 'an', 'and', 'any', 'are', 'article', 'as', 'at', 'atheism', 'atheists', 'be', 'because', 'believe', 'bill', 'but', 'by', 'caltech', 'can', 'com', 'cs', 'cwru', 'do', 'does', 'don', 'edu', 'for', 'from', 'god', 'has', 'have', 'he', 'his', 'host', 'how', 'if', 'in', 'is', 'islam', 'islamic', 'it', 'jon', 'just', 'keith', 'like', 'lines', 'livesey', 'mathew', 'me', 'moral', 'morality', 'more', 'my', 'nntp', 'no', 'not', 'of', 'on', 'one', 'only', 'or', 'organization', 'other', 'people', 'posting', 're', 'religion', 'sandvik', 'say', 'sgi', 'so', 'solntze', 'some', 'subject', 'than', 'that', 'the', 'their', 'then', 'there', 'they', 'think', 'this', 'to', 'uk', 'was', 'we', 'were', 'what', 'which', 'who', 'why', 'will', 'with', 'would', 'wpd', 'writes', 'you', 'your']\n",
      "comp.graphics\n",
      "['24', '3d', 'about', 'ac', 'advance', 'all', 'am', 'an', 'and', 'any', 'anyone', 'are', 'as', 'at', 'be', 'bit', 'but', 'by', 'ca', 'can', 'code', 'color', 'com', 'comp', 'computer', 'display', 'do', 'does', 'edu', 'file', 'files', 'for', 'format', 'from', 'ftp', 'gif', 'graphics', 'has', 'have', 'help', 'hi', 'host', 'ibm', 'if', 'image', 'images', 'in', 'is', 'it', 'just', 'keywords', 'know', 'like', 'lines', 'looking', 'mail', 'me', 'my', 'need', 'nntp', 'not', 'of', 'on', 'or', 'organization', 'out', 'package', 'pc', 'please', 'polygon', 'posting', 'program', 're', 'screen', 'so', 'software', 'some', 'subject', 'thanks', 'that', 'the', 'there', 'this', 'tiff', 'to', 'uk', 'university', 'use', 'using', 'version', 'video', 'what', 'where', 'which', 'will', 'windows', 'with', 'would', 'you']\n",
      "sci.med\n",
      "['about', 'all', 'also', 'am', 'an', 'and', 'any', 'are', 'article', 'as', 'at', 'banks', 'be', 'been', 'but', 'by', 'can', 'candida', 'com', 'cs', 'disease', 'do', 'doctor', 'don', 'dyer', 'edu', 'food', 'for', 'from', 'geb', 'get', 'gordon', 'had', 'has', 'have', 'he', 'health', 'her', 'host', 'if', 'in', 'information', 'is', 'it', 'just', 'know', 'like', 'lines', 'me', 'medical', 'medicine', 'more', 'msg', 'my', 'nntp', 'no', 'not', 'of', 'on', 'one', 'or', 'organization', 'other', 'out', 'patients', 'people', 'pitt', 'posting', 're', 'science', 'she', 'so', 'some', 'subject', 'that', 'the', 'their', 'there', 'they', 'this', 'to', 'too', 'treatment', 'university', 'up', 'very', 'was', 'we', 'what', 'when', 'which', 'who', 'will', 'with', 'would', 'writes', 'yeast', 'you', 'your']\n",
      "soc.religion.christian\n",
      "['1993', 'about', 'all', 'an', 'and', 'any', 'are', 'as', 'at', 'athos', 'be', 'because', 'been', 'being', 'believe', 'bible', 'but', 'by', 'can', 'christ', 'christian', 'christianity', 'christians', 'church', 'com', 'do', 'don', 'edu', 'faith', 'for', 'from', 'god', 'had', 'has', 'have', 'he', 'hell', 'him', 'his', 'how', 'if', 'in', 'is', 'it', 'jesus', 'just', 'know', 'like', 'lines', 'love', 'mary', 'may', 'me', 'more', 'my', 'no', 'not', 'of', 'on', 'one', 'only', 'or', 'organization', 'other', 'our', 'out', 'people', 're', 'rutgers', 'sin', 'so', 'some', 'subject', 'that', 'the', 'their', 'them', 'then', 'there', 'they', 'think', 'this', 'to', 'university', 'us', 'was', 'we', 'were', 'what', 'when', 'which', 'who', 'why', 'will', 'with', 'would', 'writes', 'you', 'your']\n"
     ]
    }
   ],
   "source": [
    "for i,c in enumerate(twenty_train.target_names):\n",
    "    print(c)\n",
    "    threshold = sorted(list(text_clf[2].coef_[i]))[NUMBER_OF_TOP_WORDS]\n",
    "    revdict = dict((count_vect.vocabulary_[k],k) for k in iter(count_vect.vocabulary_))\n",
    "    print([revdict[i] for i,x in enumerate(clf.coef_[i]) if x>threshold])"
   ]
  },
  {
   "cell_type": "markdown",
   "metadata": {},
   "source": [
    "### REFS:\n",
    "\n",
    "https://scikit-learn.org/stable/tutorial/text_analytics/working_with_text_data.html\n",
    "https://scikit-learn.org/stable/auto_examples/model_selection/plot_confusion_matrix.html"
   ]
  }
 ],
 "metadata": {
  "kernelspec": {
   "display_name": "Python 3",
   "language": "python",
   "name": "python3"
  },
  "language_info": {
   "codemirror_mode": {
    "name": "ipython",
    "version": 3
   },
   "file_extension": ".py",
   "mimetype": "text/x-python",
   "name": "python",
   "nbconvert_exporter": "python",
   "pygments_lexer": "ipython3",
   "version": "3.7.5"
  }
 },
 "nbformat": 4,
 "nbformat_minor": 2
}
