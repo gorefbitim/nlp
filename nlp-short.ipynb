{
 "cells": [
  {
   "cell_type": "code",
   "execution_count": 1,
   "metadata": {},
   "outputs": [
    {
     "name": "stderr",
     "output_type": "stream",
     "text": [
      "Using TensorFlow backend.\n"
     ]
    }
   ],
   "source": [
    "import random\n",
    "import re\n",
    "import json\n",
    "import yaml\n",
    "import pandas as pd\n",
    "import numpy as np\n",
    "import seaborn as sns\n",
    "import gensim\n",
    "import pickle\n",
    "\n",
    "from sklearn import metrics\n",
    "from sklearn.model_selection import train_test_split\n",
    "from sklearn.feature_extraction.text import TfidfTransformer\n",
    "from sklearn.feature_extraction.text import CountVectorizer\n",
    "from sklearn.pipeline import Pipeline\n",
    "from sklearn.svm import LinearSVC\n",
    "from sklearn.metrics import roc_curve\n",
    "from sklearn.metrics import auc\n",
    "from sklearn.metrics import roc_auc_score\n",
    "\n",
    "import matplotlib.pyplot as plt\n",
    "\n",
    "from keras.preprocessing.text import Tokenizer\n",
    "from keras.preprocessing.sequence import pad_sequences\n",
    "from keras.layers.embeddings import Embedding\n",
    "from keras.preprocessing import sequence\n",
    "from keras.initializers import glorot_uniform\n",
    "from keras.utils import to_categorical\n",
    "\n",
    "from CustomGenerator import CustomGenerator\n",
    "from tools import load_data,configuration_fn,tsne_plot_similar_words,build_model,build_w2v_model\n",
    "from tools import read_glove_vecs,sentences_to_indices,pretrained_embedding_layer,convert_to_one_hot"
   ]
  },
  {
   "cell_type": "markdown",
   "metadata": {},
   "source": [
    "Read configuration from yml file"
   ]
  },
  {
   "cell_type": "code",
   "execution_count": 2,
   "metadata": {},
   "outputs": [],
   "source": [
    "cfg = yaml.safe_load(open(configuration_fn))\n",
    "fn = cfg['input']\n",
    "MODEL_FILENAME = cfg['output']"
   ]
  },
  {
   "cell_type": "code",
   "execution_count": 3,
   "metadata": {},
   "outputs": [],
   "source": [
    "np.random.seed(cfg['RANDOM_SEED'])"
   ]
  },
  {
   "cell_type": "markdown",
   "metadata": {},
   "source": [
    "More configuration"
   ]
  },
  {
   "cell_type": "code",
   "execution_count": 4,
   "metadata": {},
   "outputs": [],
   "source": [
    "NUMBER_WORDS_TO_REVIEW = 15\n",
    "WORD_TO_TEST = 'washington'\n",
    "CLOSEST_COUNT = 10\n",
    "NUMBER_OF_CLUSTERS = 15\n",
    "num_words = 2000"
   ]
  },
  {
   "cell_type": "code",
   "execution_count": 5,
   "metadata": {},
   "outputs": [
    {
     "name": "stdout",
     "output_type": "stream",
     "text": [
      "data/amazon_alexa.tsv\n"
     ]
    }
   ],
   "source": [
    "print(fn)"
   ]
  },
  {
   "cell_type": "code",
   "execution_count": 6,
   "metadata": {},
   "outputs": [],
   "source": [
    "data = pd.read_csv(fn, delimiter = '\\t', quoting = 3)"
   ]
  },
  {
   "cell_type": "markdown",
   "metadata": {},
   "source": [
    "Review data"
   ]
  },
  {
   "cell_type": "code",
   "execution_count": 7,
   "metadata": {},
   "outputs": [
    {
     "name": "stdout",
     "output_type": "stream",
     "text": [
      "we have 3150 lines of data\n"
     ]
    }
   ],
   "source": [
    "print(f'we have {len(data)} lines of data')\n",
    "data = data.sample(frac=1)"
   ]
  },
  {
   "cell_type": "code",
   "execution_count": 8,
   "metadata": {},
   "outputs": [
    {
     "data": {
      "text/html": [
       "<div>\n",
       "<style scoped>\n",
       "    .dataframe tbody tr th:only-of-type {\n",
       "        vertical-align: middle;\n",
       "    }\n",
       "\n",
       "    .dataframe tbody tr th {\n",
       "        vertical-align: top;\n",
       "    }\n",
       "\n",
       "    .dataframe thead th {\n",
       "        text-align: right;\n",
       "    }\n",
       "</style>\n",
       "<table border=\"1\" class=\"dataframe\">\n",
       "  <thead>\n",
       "    <tr style=\"text-align: right;\">\n",
       "      <th></th>\n",
       "      <th>rating</th>\n",
       "      <th>date</th>\n",
       "      <th>variation</th>\n",
       "      <th>verified_reviews</th>\n",
       "      <th>feedback</th>\n",
       "    </tr>\n",
       "  </thead>\n",
       "  <tbody>\n",
       "    <tr>\n",
       "      <th>2965</th>\n",
       "      <td>5</td>\n",
       "      <td>30-Jul-18</td>\n",
       "      <td>Black  Dot</td>\n",
       "      <td>\"Love it, we are still learning the capabiliti...</td>\n",
       "      <td>1</td>\n",
       "    </tr>\n",
       "    <tr>\n",
       "      <th>969</th>\n",
       "      <td>5</td>\n",
       "      <td>29-Jul-18</td>\n",
       "      <td>Heather Gray Fabric</td>\n",
       "      <td>Very easy setup.</td>\n",
       "      <td>1</td>\n",
       "    </tr>\n",
       "    <tr>\n",
       "      <th>1385</th>\n",
       "      <td>5</td>\n",
       "      <td>17-Jul-18</td>\n",
       "      <td>Black  Spot</td>\n",
       "      <td></td>\n",
       "      <td>1</td>\n",
       "    </tr>\n",
       "    <tr>\n",
       "      <th>1233</th>\n",
       "      <td>5</td>\n",
       "      <td>26-Jul-18</td>\n",
       "      <td>Black  Spot</td>\n",
       "      <td>\"I purchased this on prime day mostly as a pre...</td>\n",
       "      <td>1</td>\n",
       "    </tr>\n",
       "    <tr>\n",
       "      <th>2996</th>\n",
       "      <td>5</td>\n",
       "      <td>30-Jul-18</td>\n",
       "      <td>White  Dot</td>\n",
       "      <td>Fun and  information.  No dislikes  so far !! ...</td>\n",
       "      <td>1</td>\n",
       "    </tr>\n",
       "  </tbody>\n",
       "</table>\n",
       "</div>"
      ],
      "text/plain": [
       "      rating       date             variation  \\\n",
       "2965       5  30-Jul-18            Black  Dot   \n",
       "969        5  29-Jul-18  Heather Gray Fabric    \n",
       "1385       5  17-Jul-18           Black  Spot   \n",
       "1233       5  26-Jul-18           Black  Spot   \n",
       "2996       5  30-Jul-18            White  Dot   \n",
       "\n",
       "                                       verified_reviews  feedback  \n",
       "2965  \"Love it, we are still learning the capabiliti...         1  \n",
       "969                                    Very easy setup.         1  \n",
       "1385                                                            1  \n",
       "1233  \"I purchased this on prime day mostly as a pre...         1  \n",
       "2996  Fun and  information.  No dislikes  so far !! ...         1  "
      ]
     },
     "execution_count": 8,
     "metadata": {},
     "output_type": "execute_result"
    }
   ],
   "source": [
    "data.head()"
   ]
  },
  {
   "cell_type": "markdown",
   "metadata": {},
   "source": [
    "# Cleanup and features: \n",
    "    lowercase\n",
    "    remove digits\n",
    "    parse annotation\n",
    "    remove redundencies\n",
    "    remove empty column extras"
   ]
  },
  {
   "cell_type": "code",
   "execution_count": 9,
   "metadata": {},
   "outputs": [],
   "source": [
    "data['content'] = data['verified_reviews'].str.lower()\n",
    "data['content'] = data['content'].str.replace('[^a-z\\s]', '')\n",
    "data['annotation']=data['rating'].apply(lambda x: int(x/5))\n",
    "data.drop_duplicates(subset = \"content\", inplace=True)"
   ]
  },
  {
   "cell_type": "code",
   "execution_count": 10,
   "metadata": {},
   "outputs": [
    {
     "data": {
      "text/plain": [
       "<matplotlib.axes._subplots.AxesSubplot at 0x1417d0610>"
      ]
     },
     "execution_count": 10,
     "metadata": {},
     "output_type": "execute_result"
    },
    {
     "data": {
      "image/png": "[encoded data removed]",
      "text/plain": [
       "<Figure size 432x288 with 1 Axes>"
      ]
     },
     "metadata": {
      "needs_background": "light"
     },
     "output_type": "display_data"
    }
   ],
   "source": [
    "sns.countplot(x='annotation', data=data)"
   ]
  },
  {
   "cell_type": "markdown",
   "metadata": {},
   "source": [
    "Take a small balanced subset of the data, include positives and negatives"
   ]
  },
  {
   "cell_type": "code",
   "execution_count": 11,
   "metadata": {},
   "outputs": [
    {
     "name": "stdout",
     "output_type": "stream",
     "text": [
      "bad reviews: 639\n"
     ]
    }
   ],
   "source": [
    "number_of_offsentive_annotations = len(data[data['annotation']==0])\n",
    "print(\"bad reviews:\",number_of_offsentive_annotations)"
   ]
  },
  {
   "cell_type": "code",
   "execution_count": 12,
   "metadata": {},
   "outputs": [],
   "source": [
    "data = pd.concat([data[data['annotation']==0] , data[data['annotation']==1][:number_of_offsentive_annotations]])"
   ]
  },
  {
   "cell_type": "code",
   "execution_count": 13,
   "metadata": {},
   "outputs": [
    {
     "data": {
      "text/plain": [
       "<matplotlib.axes._subplots.AxesSubplot at 0x11a3e7750>"
      ]
     },
     "execution_count": 13,
     "metadata": {},
     "output_type": "execute_result"
    },
    {
     "data": {
      "image/png": "[encoded data removed]",
      "text/plain": [
       "<Figure size 432x288 with 1 Axes>"
      ]
     },
     "metadata": {
      "needs_background": "light"
     },
     "output_type": "display_data"
    }
   ],
   "source": [
    "sns.countplot(x='annotation', data=data)"
   ]
  },
  {
   "cell_type": "code",
   "execution_count": 14,
   "metadata": {},
   "outputs": [
    {
     "name": "stdout",
     "output_type": "stream",
     "text": [
      "We now have 1278 data points\n"
     ]
    },
    {
     "data": {
      "text/html": [
       "<div>\n",
       "<style scoped>\n",
       "    .dataframe tbody tr th:only-of-type {\n",
       "        vertical-align: middle;\n",
       "    }\n",
       "\n",
       "    .dataframe tbody tr th {\n",
       "        vertical-align: top;\n",
       "    }\n",
       "\n",
       "    .dataframe thead th {\n",
       "        text-align: right;\n",
       "    }\n",
       "</style>\n",
       "<table border=\"1\" class=\"dataframe\">\n",
       "  <thead>\n",
       "    <tr style=\"text-align: right;\">\n",
       "      <th></th>\n",
       "      <th>rating</th>\n",
       "      <th>date</th>\n",
       "      <th>variation</th>\n",
       "      <th>verified_reviews</th>\n",
       "      <th>feedback</th>\n",
       "      <th>content</th>\n",
       "      <th>annotation</th>\n",
       "    </tr>\n",
       "  </thead>\n",
       "  <tbody>\n",
       "    <tr>\n",
       "      <th>1239</th>\n",
       "      <td>4</td>\n",
       "      <td>26-Jul-18</td>\n",
       "      <td>White  Spot</td>\n",
       "      <td>Speakers are not as loud as Google Home</td>\n",
       "      <td>1</td>\n",
       "      <td>speakers are not as loud as google home</td>\n",
       "      <td>0</td>\n",
       "    </tr>\n",
       "    <tr>\n",
       "      <th>2397</th>\n",
       "      <td>2</td>\n",
       "      <td>30-Jul-18</td>\n",
       "      <td>Configuration: Fire TV Stick</td>\n",
       "      <td>las películas no tiene o no se pueden cambiar ...</td>\n",
       "      <td>0</td>\n",
       "      <td>las pelculas no tiene o no se pueden cambiar a...</td>\n",
       "      <td>0</td>\n",
       "    </tr>\n",
       "    <tr>\n",
       "      <th>1450</th>\n",
       "      <td>2</td>\n",
       "      <td>30-Jul-18</td>\n",
       "      <td>Black  Show</td>\n",
       "      <td>Thought it would be more powerful and have a l...</td>\n",
       "      <td>0</td>\n",
       "      <td>thought it would be more powerful and have a l...</td>\n",
       "      <td>0</td>\n",
       "    </tr>\n",
       "    <tr>\n",
       "      <th>612</th>\n",
       "      <td>4</td>\n",
       "      <td>3-Jun-18</td>\n",
       "      <td>Black</td>\n",
       "      <td>Worked as advertised. Thanks</td>\n",
       "      <td>1</td>\n",
       "      <td>worked as advertised thanks</td>\n",
       "      <td>0</td>\n",
       "    </tr>\n",
       "    <tr>\n",
       "      <th>2500</th>\n",
       "      <td>1</td>\n",
       "      <td>30-Jul-18</td>\n",
       "      <td>Black  Dot</td>\n",
       "      <td>I didn't like that almost everytime i asked Al...</td>\n",
       "      <td>0</td>\n",
       "      <td>i didnt like that almost everytime i asked ale...</td>\n",
       "      <td>0</td>\n",
       "    </tr>\n",
       "  </tbody>\n",
       "</table>\n",
       "</div>"
      ],
      "text/plain": [
       "      rating       date                     variation  \\\n",
       "1239       4  26-Jul-18                   White  Spot   \n",
       "2397       2  30-Jul-18  Configuration: Fire TV Stick   \n",
       "1450       2  30-Jul-18                   Black  Show   \n",
       "612        4   3-Jun-18                         Black   \n",
       "2500       1  30-Jul-18                    Black  Dot   \n",
       "\n",
       "                                       verified_reviews  feedback  \\\n",
       "1239            Speakers are not as loud as Google Home         1   \n",
       "2397  las películas no tiene o no se pueden cambiar ...         0   \n",
       "1450  Thought it would be more powerful and have a l...         0   \n",
       "612                        Worked as advertised. Thanks         1   \n",
       "2500  I didn't like that almost everytime i asked Al...         0   \n",
       "\n",
       "                                                content  annotation  \n",
       "1239            speakers are not as loud as google home           0  \n",
       "2397  las pelculas no tiene o no se pueden cambiar a...           0  \n",
       "1450  thought it would be more powerful and have a l...           0  \n",
       "612                         worked as advertised thanks           0  \n",
       "2500  i didnt like that almost everytime i asked ale...           0  "
      ]
     },
     "execution_count": 14,
     "metadata": {},
     "output_type": "execute_result"
    }
   ],
   "source": [
    "print(f'We now have {len(data)} data points')\n",
    "data.head()"
   ]
  },
  {
   "cell_type": "code",
   "execution_count": 15,
   "metadata": {},
   "outputs": [
    {
     "name": "stdout",
     "output_type": "stream",
     "text": [
      "Mean tweet length:      157.2\n"
     ]
    }
   ],
   "source": [
    "lens = data.content.str.len()\n",
    "#maxLen = max(lens)\n",
    "avg = lens.mean()\n",
    "print(f'Mean tweet length: {avg:10.1f}')"
   ]
  },
  {
   "cell_type": "code",
   "execution_count": 16,
   "metadata": {},
   "outputs": [
    {
     "data": {
      "text/plain": [
       "<matplotlib.axes._subplots.AxesSubplot at 0x1419b1ed0>"
      ]
     },
     "execution_count": 16,
     "metadata": {},
     "output_type": "execute_result"
    },
    {
     "data": {
      "image/png": "[encoded data removed]",
      "text/plain": [
       "<Figure size 432x288 with 1 Axes>"
      ]
     },
     "metadata": {
      "needs_background": "light"
     },
     "output_type": "display_data"
    }
   ],
   "source": [
    "lens.hist()"
   ]
  },
  {
   "cell_type": "markdown",
   "metadata": {},
   "source": [
    "Build train / test set"
   ]
  },
  {
   "cell_type": "markdown",
   "metadata": {},
   "source": [
    "# TFiDF + SVM"
   ]
  },
  {
   "cell_type": "code",
   "execution_count": 17,
   "metadata": {},
   "outputs": [],
   "source": [
    "Y = data['annotation'].values\n",
    "X_train, X_test, y_train, y_test = train_test_split(data['content'].values, Y,\n",
    "                                                    test_size = cfg['TEST_FRACTION2_LSTM_W2V'],\n",
    "                                                    random_state = cfg['RANDOM_SEED'], stratify=Y)"
   ]
  },
  {
   "cell_type": "code",
   "execution_count": 18,
   "metadata": {},
   "outputs": [],
   "source": [
    "pipeline = Pipeline([\n",
    "    ('vect', CountVectorizer()),\n",
    "    ('tfidf', TfidfTransformer()),\n",
    "    ('clf', LinearSVC()),\n",
    "])"
   ]
  },
  {
   "cell_type": "code",
   "execution_count": 19,
   "metadata": {},
   "outputs": [
    {
     "data": {
      "text/plain": [
       "Pipeline(memory=None,\n",
       "         steps=[('vect',\n",
       "                 CountVectorizer(analyzer='word', binary=False,\n",
       "                                 decode_error='strict',\n",
       "                                 dtype=<class 'numpy.int64'>, encoding='utf-8',\n",
       "                                 input='content', lowercase=True, max_df=1.0,\n",
       "                                 max_features=None, min_df=1,\n",
       "                                 ngram_range=(1, 1), preprocessor=None,\n",
       "                                 stop_words=None, strip_accents=None,\n",
       "                                 token_pattern='(?u)\\\\b\\\\w\\\\w+\\\\b',\n",
       "                                 tokenizer=None, vocabulary=None)),\n",
       "                ('tfidf',\n",
       "                 TfidfTransformer(norm='l2', smooth_idf=True,\n",
       "                                  sublinear_tf=False, use_idf=True)),\n",
       "                ('clf',\n",
       "                 LinearSVC(C=1.0, class_weight=None, dual=True,\n",
       "                           fit_intercept=True, intercept_scaling=1,\n",
       "                           loss='squared_hinge', max_iter=1000,\n",
       "                           multi_class='ovr', penalty='l2', random_state=None,\n",
       "                           tol=0.0001, verbose=0))],\n",
       "         verbose=False)"
      ]
     },
     "execution_count": 19,
     "metadata": {},
     "output_type": "execute_result"
    }
   ],
   "source": [
    "pipeline.fit(X_train, y_train)"
   ]
  },
  {
   "cell_type": "code",
   "execution_count": 20,
   "metadata": {},
   "outputs": [
    {
     "name": "stdout",
     "output_type": "stream",
     "text": [
      "              precision    recall  f1-score   support\n",
      "\n",
      "    negative       0.75      0.77      0.76        64\n",
      "    positive       0.76      0.75      0.76        64\n",
      "\n",
      "    accuracy                           0.76       128\n",
      "   macro avg       0.76      0.76      0.76       128\n",
      "weighted avg       0.76      0.76      0.76       128\n",
      "\n"
     ]
    },
    {
     "data": {
      "text/plain": [
       "array([[49, 15],\n",
       "       [16, 48]])"
      ]
     },
     "execution_count": 20,
     "metadata": {},
     "output_type": "execute_result"
    }
   ],
   "source": [
    "############\n",
    "# Evaluate #\n",
    "############\n",
    "categories = ['negative' , 'positive']\n",
    "\n",
    "predicted = pipeline.predict(X_test)\n",
    "print(metrics.classification_report(y_test, predicted,\n",
    "                                    target_names=categories))\n",
    "metrics.confusion_matrix(y_test, predicted)"
   ]
  },
  {
   "cell_type": "code",
   "execution_count": 22,
   "metadata": {},
   "outputs": [],
   "source": [
    "model = pipeline[2]\n",
    "count_vect = pipeline[0]"
   ]
  },
  {
   "cell_type": "code",
   "execution_count": 23,
   "metadata": {},
   "outputs": [
    {
     "name": "stdout",
     "output_type": "stream",
     "text": [
      "['able', 'about', 'added', 'additional', 'advertised', 'all', 'amaxing', 'amazing', 'arrived', 'ask', 'awesome', 'being', 'best', 'bigger', 'call', 'capabilitiesbut', 'compact', 'condition', 'course', 'crazy', 'dad', 'dims', 'easier', 'easy', 'entire', 'everyone', 'exactly', 'excellent', 'expert', 'extended', 'favorite', 'flawlessly', 'friendly', 'from', 'fun', 'getting', 'great', 'group', 'highly', 'httpswwwamazoncomdpbsqyxtwrefcmcrrypprdttlsol', 'im', 'information', 'installing', 'keeper', 'keyboard', 'knew', 'lag', 'learn', 'leary', 'lets', 'life', 'lists', 'live', 'long', 'loud', 'love', 'loved', 'made', 'minutes', 'movies', 'music', 'needed', 'new', 'news', 'now', 'office', 'perfect', 'perfectly', 'powerful', 'programmed', 'purchased', 'really', 'recommend', 'room', 'savvy', 'say', 'searching', 'since', 'sister', 'st', 'such', 'tell', 'thermostat', 'things', 'timer', 'unit', 'upgraded', 'usage', 'very', 'wait', 'wanted', 'what', 'while', 'whole', 'wife', 'wireless', 'wonderful', 'wonderfully', 'year']\n"
     ]
    }
   ],
   "source": [
    "threshold = sorted(list(model.coef_[0]))[-100]\n",
    "revdict = dict((count_vect.vocabulary_[k],k) for k in iter(count_vect.vocabulary_))\n",
    "print([revdict[i] for i,x in enumerate(model.coef_[0]) if x>threshold])"
   ]
  },
  {
   "cell_type": "code",
   "execution_count": 24,
   "metadata": {},
   "outputs": [],
   "source": [
    "y_score = pipeline.decision_function(X_test)"
   ]
  },
  {
   "cell_type": "code",
   "execution_count": 25,
   "metadata": {},
   "outputs": [],
   "source": [
    "# Compute ROC curve and ROC area for each class\n",
    "fpr = dict()\n",
    "tpr = dict()\n",
    "roc_auc = dict()\n",
    "#for i in range(2):\n",
    "fpr, tpr, _ = roc_curve(y_test, y_score)\n",
    "roc_auc = auc(fpr, tpr)"
   ]
  },
  {
   "cell_type": "code",
   "execution_count": 26,
   "metadata": {},
   "outputs": [],
   "source": [
    "#https://scikit-learn.org/stable/auto_examples/model_selection/plot_roc.html"
   ]
  },
  {
   "cell_type": "code",
   "execution_count": 27,
   "metadata": {},
   "outputs": [
    {
     "data": {
      "image/png": "[encoded data removed]",
      "text/plain": [
       "<Figure size 432x288 with 1 Axes>"
      ]
     },
     "metadata": {
      "needs_background": "light"
     },
     "output_type": "display_data"
    }
   ],
   "source": [
    "plt.figure()\n",
    "lw = 2\n",
    "plt.plot(fpr, tpr, color='darkorange',\n",
    "         lw=lw, label='ROC curve (area = %0.2f)' % roc_auc)\n",
    "plt.plot([0, 1], [0, 1], color='navy', lw=lw, linestyle='--')\n",
    "plt.xlim([0.0, 1.0])\n",
    "plt.ylim([0.0, 1.05])\n",
    "plt.xlabel('False Positive Rate')\n",
    "plt.ylabel('True Positive Rate')\n",
    "plt.title('Receiver operating characteristic example')\n",
    "plt.legend(loc=\"lower right\")\n",
    "plt.show()"
   ]
  },
  {
   "cell_type": "markdown",
   "metadata": {},
   "source": [
    "# LSTM + W2V"
   ]
  },
  {
   "cell_type": "code",
   "execution_count": 28,
   "metadata": {},
   "outputs": [],
   "source": [
    "Y = convert_to_one_hot(data['annotation'].values, 2)\n",
    "X_train, X_test, y_train, y_test = train_test_split(data['content'].values, Y,\n",
    "                                                    test_size = cfg['TEST_FRACTION2_LSTM_W2V'],\n",
    "                                                    random_state = cfg['RANDOM_SEED'], stratify=Y)"
   ]
  },
  {
   "cell_type": "code",
   "execution_count": 29,
   "metadata": {},
   "outputs": [
    {
     "name": "stdout",
     "output_type": "stream",
     "text": [
      "CPU times: user 5.7 s, sys: 229 ms, total: 5.93 s\n",
      "Wall time: 5.96 s\n"
     ]
    }
   ],
   "source": [
    "%%time\n",
    "word_to_index, index_to_word, word_to_vec_map = read_glove_vecs('data/glove.6B.50d.txt')"
   ]
  },
  {
   "cell_type": "code",
   "execution_count": 30,
   "metadata": {},
   "outputs": [
    {
     "name": "stdout",
     "output_type": "stream",
     "text": [
      "451\n"
     ]
    }
   ],
   "source": [
    "maxLen = len(max(X_train, key=len).split())\n",
    "print(maxLen)\n",
    "maxLen = 25"
   ]
  },
  {
   "cell_type": "code",
   "execution_count": 31,
   "metadata": {},
   "outputs": [],
   "source": [
    "X_train_indices = sentences_to_indices(X_train, word_to_index, maxLen)\n",
    "X_test_indices =  sentences_to_indices(X_test,  word_to_index, maxLen)"
   ]
  },
  {
   "cell_type": "code",
   "execution_count": 32,
   "metadata": {},
   "outputs": [
    {
     "name": "stdout",
     "output_type": "stream",
     "text": [
      "16\n"
     ]
    }
   ],
   "source": [
    "print(len(X_train[380].split()))"
   ]
  },
  {
   "cell_type": "code",
   "execution_count": 33,
   "metadata": {},
   "outputs": [
    {
     "data": {
      "text/plain": [
       "2329"
      ]
     },
     "execution_count": 33,
     "metadata": {},
     "output_type": "execute_result"
    }
   ],
   "source": [
    "len(max(X_train, key=len))"
   ]
  },
  {
   "cell_type": "code",
   "execution_count": 34,
   "metadata": {},
   "outputs": [
    {
     "name": "stdout",
     "output_type": "stream",
     "text": [
      "Size of train: 1150 size of test: 128\n"
     ]
    }
   ],
   "source": [
    "print(f'Size of train: {len(X_train)} size of test: {len(X_test)}')"
   ]
  },
  {
   "cell_type": "code",
   "execution_count": 35,
   "metadata": {},
   "outputs": [
    {
     "name": "stdout",
     "output_type": "stream",
     "text": [
      "WARNING:tensorflow:Large dropout rate: 0.95 (>0.5). In TensorFlow 2.x, dropout() uses dropout rate instead of keep_prob. Please ensure that this is intended.\n",
      "WARNING:tensorflow:Large dropout rate: 0.95 (>0.5). In TensorFlow 2.x, dropout() uses dropout rate instead of keep_prob. Please ensure that this is intended.\n",
      "Model: \"sequential_1\"\n",
      "_________________________________________________________________\n",
      "Layer (type)                 Output Shape              Param #   \n",
      "=================================================================\n",
      "embedding_1 (Embedding)      (None, 25, 50)            20000050  \n",
      "_________________________________________________________________\n",
      "lstm_1 (LSTM)                (None, 25, 256)           314368    \n",
      "_________________________________________________________________\n",
      "dropout_1 (Dropout)          (None, 25, 256)           0         \n",
      "_________________________________________________________________\n",
      "lstm_2 (LSTM)                (None, 128)               197120    \n",
      "_________________________________________________________________\n",
      "dropout_2 (Dropout)          (None, 128)               0         \n",
      "_________________________________________________________________\n",
      "dense_1 (Dense)              (None, 2)                 258       \n",
      "_________________________________________________________________\n",
      "activation_1 (Activation)    (None, 2)                 0         \n",
      "=================================================================\n",
      "Total params: 20,511,796\n",
      "Trainable params: 511,746\n",
      "Non-trainable params: 20,000,050\n",
      "_________________________________________________________________\n"
     ]
    }
   ],
   "source": [
    "model_w2v = build_w2v_model(word_to_vec_map, word_to_index, maxLen)\n",
    "model_w2v.summary()"
   ]
  },
  {
   "cell_type": "code",
   "execution_count": 36,
   "metadata": {
    "scrolled": true
   },
   "outputs": [
    {
     "name": "stdout",
     "output_type": "stream",
     "text": [
      "Epoch 1/15\n",
      "35/35 [==============================] - 3s 93ms/step - loss: 0.8323 - accuracy: 0.5590 - val_loss: 0.6712 - val_accuracy: 0.5859\n",
      "Epoch 2/15\n",
      "35/35 [==============================] - 2s 64ms/step - loss: 0.7642 - accuracy: 0.5555 - val_loss: 0.6766 - val_accuracy: 0.6016\n",
      "Epoch 3/15\n",
      "35/35 [==============================] - 2s 68ms/step - loss: 0.7154 - accuracy: 0.5769 - val_loss: 0.6406 - val_accuracy: 0.6016\n",
      "Epoch 4/15\n",
      "35/35 [==============================] - 2s 70ms/step - loss: 0.6819 - accuracy: 0.6145 - val_loss: 0.6306 - val_accuracy: 0.6016\n",
      "Epoch 5/15\n",
      "35/35 [==============================] - 2s 66ms/step - loss: 0.6331 - accuracy: 0.6664 - val_loss: 0.6722 - val_accuracy: 0.6641\n",
      "Epoch 6/15\n",
      "35/35 [==============================] - 2s 66ms/step - loss: 0.6082 - accuracy: 0.7030 - val_loss: 0.5782 - val_accuracy: 0.6562\n",
      "Epoch 7/15\n",
      "35/35 [==============================] - 2s 70ms/step - loss: 0.6576 - accuracy: 0.6592 - val_loss: 0.5844 - val_accuracy: 0.6953\n",
      "Epoch 8/15\n",
      "35/35 [==============================] - 2s 68ms/step - loss: 0.5866 - accuracy: 0.7093 - val_loss: 0.5612 - val_accuracy: 0.6875\n",
      "Epoch 9/15\n",
      "35/35 [==============================] - 2s 71ms/step - loss: 0.5710 - accuracy: 0.7227 - val_loss: 0.6079 - val_accuracy: 0.6641\n",
      "Epoch 10/15\n",
      "35/35 [==============================] - 2s 70ms/step - loss: 0.6045 - accuracy: 0.7000 - val_loss: 0.5457 - val_accuracy: 0.6953\n",
      "Epoch 11/15\n",
      "35/35 [==============================] - 2s 69ms/step - loss: 0.5716 - accuracy: 0.7240 - val_loss: 0.6068 - val_accuracy: 0.6719\n",
      "Epoch 12/15\n",
      "35/35 [==============================] - 2s 67ms/step - loss: 0.5714 - accuracy: 0.7218 - val_loss: 0.5391 - val_accuracy: 0.7031\n",
      "Epoch 13/15\n",
      "35/35 [==============================] - 2s 69ms/step - loss: 0.5749 - accuracy: 0.7165 - val_loss: 0.5557 - val_accuracy: 0.6875\n",
      "Epoch 14/15\n",
      "35/35 [==============================] - 2s 68ms/step - loss: 0.5483 - accuracy: 0.7630 - val_loss: 0.6080 - val_accuracy: 0.6406\n",
      "Epoch 15/15\n",
      "35/35 [==============================] - 2s 67ms/step - loss: 0.5565 - accuracy: 0.7464 - val_loss: 0.5759 - val_accuracy: 0.6875\n",
      "CPU times: user 2min 5s, sys: 48.3 s, total: 2min 54s\n",
      "Wall time: 38 s\n"
     ]
    }
   ],
   "source": [
    "%%time\n",
    "generator = CustomGenerator(X_train_indices, y_train)\n",
    "history = model_w2v.fit_generator(generator=generator, steps_per_epoch=(len(X_train_indices) // generator.batch_size),\n",
    "                    epochs = cfg['LSTM_W2V_EPOCHS'], verbose = 1, shuffle=True, validation_data=(X_test_indices, y_test))"
   ]
  },
  {
   "cell_type": "markdown",
   "metadata": {},
   "source": [
    "\n",
    "Calculate accuracy on the test set"
   ]
  },
  {
   "cell_type": "code",
   "execution_count": 37,
   "metadata": {},
   "outputs": [
    {
     "name": "stdout",
     "output_type": "stream",
     "text": [
      "128/128 [==============================] - 0s 593us/step\n",
      "1150/1150 [==============================] - 1s 495us/step\n",
      "[0.5758680328726768, 0.6875]\n",
      "CPU times: user 2.11 s, sys: 642 ms, total: 2.75 s\n",
      "Wall time: 648 ms\n"
     ]
    }
   ],
   "source": [
    "%%time\n",
    "test_mse  = model_w2v.evaluate(X_test_indices,  y_test)\n",
    "train_mse = model_w2v.evaluate(X_train_indices, y_train)\n",
    "print(test_mse)"
   ]
  },
  {
   "cell_type": "code",
   "execution_count": 38,
   "metadata": {},
   "outputs": [
    {
     "data": {
      "image/png": "[encoded data removed]",
      "text/plain": [
       "<Figure size 432x288 with 1 Axes>"
      ]
     },
     "metadata": {
      "needs_background": "light"
     },
     "output_type": "display_data"
    }
   ],
   "source": [
    "# evaluate the model\n",
    "#print('Train: %.3f, Test: %.3f' % (train_mse, test_mse))\n",
    "# plot loss during training\n",
    "plt.title('Loss')\n",
    "plt.plot(history.history['loss'], label='train')\n",
    "plt.plot(history.history['val_loss'], label='test')\n",
    "plt.legend()\n",
    "plt.show()"
   ]
  },
  {
   "cell_type": "code",
   "execution_count": 39,
   "metadata": {},
   "outputs": [
    {
     "data": {
      "image/png": "[encoded data removed]",
      "text/plain": [
       "<Figure size 432x288 with 1 Axes>"
      ]
     },
     "metadata": {
      "needs_background": "light"
     },
     "output_type": "display_data"
    }
   ],
   "source": [
    "plt.title('Accuracy')\n",
    "plt.plot(history.history['accuracy'], label='train')\n",
    "plt.plot(history.history['val_accuracy'], label='test')\n",
    "plt.legend()\n",
    "plt.show()"
   ]
  },
  {
   "cell_type": "markdown",
   "metadata": {},
   "source": [
    "see the mislabelled examples"
   ]
  },
  {
   "cell_type": "code",
   "execution_count": 40,
   "metadata": {},
   "outputs": [
    {
     "name": "stdout",
     "output_type": "stream",
     "text": [
      "              precision    recall  f1-score   support\n",
      "\n",
      "           0       0.67      0.73      0.70        64\n",
      "           1       0.71      0.64      0.67        64\n",
      "\n",
      "    accuracy                           0.69       128\n",
      "   macro avg       0.69      0.69      0.69       128\n",
      "weighted avg       0.69      0.69      0.69       128\n",
      "\n",
      "[[47 17]\n",
      " [23 41]]\n",
      "CPU times: user 419 ms, sys: 74.2 ms, total: 493 ms\n",
      "Wall time: 281 ms\n"
     ]
    }
   ],
   "source": [
    "%%time\n",
    "pred = model_w2v.predict(X_test_indices)\n",
    "pred_indices = np.argmax(pred, axis=1)\n",
    "classes = np.array(range(0, 2))\n",
    "predicted = classes[pred_indices]\n",
    "yt = [int(x[1]) for x in y_test]\n",
    "print(metrics.classification_report(yt, predicted))\n",
    "print(metrics.confusion_matrix(yt, predicted))"
   ]
  },
  {
   "cell_type": "markdown",
   "metadata": {},
   "source": [
    "Example"
   ]
  },
  {
   "cell_type": "code",
   "execution_count": 41,
   "metadata": {},
   "outputs": [
    {
     "name": "stdout",
     "output_type": "stream",
     "text": [
      "[[377946. 132683. 326012. ...      0.      0.      0.]\n",
      " [148356.  81794. 269953. ... 148444.      0.      0.]\n",
      " [226278. 357266. 128201. ... 304093.  60665. 357810.]\n",
      " ...\n",
      " [185457. 295456. 357266. ... 268046. 159622. 185457.]\n",
      " [269953. 292794. 394475. ... 281272.      0.      0.]\n",
      " [384374. 226278. 357266. ... 272881. 191507. 193637.]]\n",
      "please go and the arrive [[0.6277974  0.37220252]\n",
      " [0.81452125 0.18547876]\n",
      " [0.5465309  0.45346913]\n",
      " [0.09178655 0.90821344]\n",
      " [0.07769308 0.9223069 ]\n",
      " [0.22678113 0.77321887]\n",
      " [0.7584452  0.24155481]\n",
      " [0.8436326  0.15636748]\n",
      " [0.21185279 0.78814715]\n",
      " [0.6312942  0.36870584]\n",
      " [0.80189663 0.19810332]\n",
      " [0.08353228 0.9164677 ]\n",
      " [0.21249184 0.7875082 ]\n",
      " [0.6202684  0.37973163]\n",
      " [0.24587218 0.75412774]\n",
      " [0.25641888 0.7435811 ]\n",
      " [0.1079719  0.8920281 ]\n",
      " [0.47826958 0.5217304 ]\n",
      " [0.9333483  0.06665168]\n",
      " [0.79837775 0.20162217]\n",
      " [0.6002278  0.39977223]\n",
      " [0.80940205 0.190598  ]\n",
      " [0.14731403 0.852686  ]\n",
      " [0.904074   0.09592599]\n",
      " [0.2766287  0.7233713 ]\n",
      " [0.91316813 0.08683188]\n",
      " [0.893768   0.10623195]\n",
      " [0.08906492 0.9109351 ]\n",
      " [0.56512    0.43488   ]\n",
      " [0.5491228  0.45087713]\n",
      " [0.3503757  0.64962435]\n",
      " [0.620387   0.37961295]\n",
      " [0.25501215 0.74498785]\n",
      " [0.23496872 0.7650313 ]\n",
      " [0.9222028  0.07779719]\n",
      " [0.86760634 0.13239361]\n",
      " [0.15534458 0.84465545]\n",
      " [0.28589353 0.7141064 ]\n",
      " [0.21354553 0.78645444]\n",
      " [0.81815416 0.1818459 ]\n",
      " [0.9095504  0.09044962]\n",
      " [0.06308626 0.93691367]\n",
      " [0.06089967 0.9391004 ]\n",
      " [0.86359483 0.13640517]\n",
      " [0.8598912  0.14010884]\n",
      " [0.64890563 0.3510944 ]\n",
      " [0.6633761  0.33662394]\n",
      " [0.6648518  0.33514816]\n",
      " [0.72563237 0.27436757]\n",
      " [0.34024546 0.65975446]\n",
      " [0.6746695  0.32533047]\n",
      " [0.29228616 0.7077138 ]\n",
      " [0.2703033  0.7296967 ]\n",
      " [0.37141842 0.6285816 ]\n",
      " [0.0531886  0.94681144]\n",
      " [0.10200115 0.89799887]\n",
      " [0.47878748 0.5212126 ]\n",
      " [0.6394709  0.36052915]\n",
      " [0.85239446 0.14760554]\n",
      " [0.66460645 0.33539352]\n",
      " [0.776911   0.22308895]\n",
      " [0.7527017  0.24729836]\n",
      " [0.37671068 0.62328935]\n",
      " [0.78936833 0.2106316 ]\n",
      " [0.3160335  0.68396646]\n",
      " [0.89523995 0.10476001]\n",
      " [0.5981809  0.40181908]\n",
      " [0.30412325 0.6958768 ]\n",
      " [0.05259001 0.94741005]\n",
      " [0.74653035 0.2534696 ]\n",
      " [0.42560387 0.5743961 ]\n",
      " [0.8797398  0.12026016]\n",
      " [0.9392031  0.06079686]\n",
      " [0.10417935 0.8958207 ]\n",
      " [0.5655418  0.43445817]\n",
      " [0.8521243  0.1478757 ]\n",
      " [0.26506752 0.7349325 ]\n",
      " [0.75376564 0.24623437]\n",
      " [0.71432924 0.28567085]\n",
      " [0.6152462  0.3847538 ]\n",
      " [0.63276494 0.367235  ]\n",
      " [0.6969689  0.303031  ]\n",
      " [0.9252997  0.07470034]\n",
      " [0.08116764 0.91883236]\n",
      " [0.8005725  0.19942747]\n",
      " [0.44563168 0.5543683 ]\n",
      " [0.49585596 0.504144  ]\n",
      " [0.1721921  0.8278079 ]\n",
      " [0.36058387 0.6394161 ]\n",
      " [0.82536566 0.17463437]\n",
      " [0.9599069  0.04009308]\n",
      " [0.8524809  0.14751917]\n",
      " [0.68937427 0.3106257 ]\n",
      " [0.79073536 0.20926458]\n",
      " [0.8124509  0.18754917]\n",
      " [0.67124724 0.3287528 ]\n",
      " [0.9335974  0.06640263]\n",
      " [0.20866649 0.79133356]\n",
      " [0.30146843 0.69853157]\n",
      " [0.3130439  0.6869561 ]\n",
      " [0.4034208  0.59657913]\n",
      " [0.09535206 0.904648  ]\n",
      " [0.20066422 0.7993357 ]\n",
      " [0.3847649  0.61523503]\n",
      " [0.35873184 0.6412682 ]\n",
      " [0.7070431  0.29295692]\n",
      " [0.21259762 0.78740233]\n",
      " [0.6039393  0.3960607 ]\n",
      " [0.91748554 0.08251446]\n",
      " [0.9061624  0.09383763]\n",
      " [0.8789909  0.12100911]\n",
      " [0.5323041  0.46769583]\n",
      " [0.5897511  0.41024888]\n",
      " [0.44525132 0.5547486 ]\n",
      " [0.7312018  0.26879814]\n",
      " [0.84985065 0.15014936]\n",
      " [0.23825537 0.7617447 ]\n",
      " [0.07553693 0.92446303]\n",
      " [0.21374074 0.7862593 ]\n",
      " [0.14986078 0.85013926]\n",
      " [0.8812647  0.11873531]\n",
      " [0.09529664 0.9047034 ]\n",
      " [0.10928412 0.8907159 ]\n",
      " [0.19306554 0.8069344 ]\n",
      " [0.74102473 0.2589753 ]\n",
      " [0.34608892 0.65391105]\n",
      " [0.89914757 0.10085241]\n",
      " [0.751092   0.24890795]]\n"
     ]
    }
   ],
   "source": [
    "# Change the sentence below to see your prediction. Make sure all the words are in the Glove embeddings.  \n",
    "x_test = np.array(['please go and the arrive'])\n",
    "print(X_test_indices)\n",
    "print(x_test[0] +' '+  str((model_w2v.predict(X_test_indices))))"
   ]
  },
  {
   "cell_type": "markdown",
   "metadata": {},
   "source": [
    "See the mislabelled examples"
   ]
  },
  {
   "cell_type": "code",
   "execution_count": 42,
   "metadata": {},
   "outputs": [
    {
     "name": "stdout",
     "output_type": "stream",
     "text": [
      "very easy setup prediction: [0.6277974  0.37220252]0\n",
      "finally bought one but it couldnt find my wifi had to buy a wifi extended my smart tv used the wifi just fine prediction: [0.81452125 0.18547876]0\n",
      "love the dots especially with the ability to talk from one to the other these are really convenient no issues with the refurbished as they are like new prediction: [0.5465309  0.45346913]0\n",
      "as always easy to set up prediction: [0.21185279 0.78814715]1\n",
      "i love alexa but the sound on the dot is not the best i own an echo nd gen for the kitchenliving room and got this for my bedroom but theres a significant difference in sound the dot lacks a full base sound and sounds as if its coming off a cheap portable speaker i was really disappointed i returned it right away and just shelled out the money to buy a second echo  for my bedroom also prediction: [0.47826958 0.5217304 ]1\n",
      "so far i like it  it is better than i expecting it prediction: [0.79837775 0.20162217]0\n",
      "very nice everything is working fine just have to  learn the commands prediction: [0.6002278  0.39977223]0\n",
      "great fun but frustrating at times commands between tv and the show get mixed asking to watch something will turn my directv not display on show which stinks with an  year old also would like more video options with flash briefings still really a tech wonder for a low price prediction: [0.2766287 0.7233713]1\n",
      "music mainly but still checking other features prediction: [0.25501215 0.74498785]1\n",
      "terrific prediction: [0.23496872 0.7650313 ]1\n",
      "i really like it works well trivia games and shopping on it is funsometimes it misunderstands what i say but other then that the speaker is decent video chat is good but you do need to be in a well lit room so the other end can see you lol prediction: [0.28589353 0.7141064 ]1\n",
      "no problem prediction: [0.81815416 0.1818459 ]0\n",
      "i like that its voice activated but it dont link with any other bluetooth devices only alexa devices prediction: [0.86359483 0.13640517]0\n",
      "very easy to install voice control is great prediction: [0.6648518  0.33514816]0\n",
      "i like it because you could ask it different questions and it does different things it works intermittently with my smart tv if i ask you to change the volume it does or does it sometimes if i ask you to change the channel it does or doesnt sometimes i have to reset it i dont know if its because its refurbished but its okay its just not what i expected prediction: [0.72563237 0.27436757]0\n",
      "sound very nice perfect for the price prediction: [0.34024546 0.65975446]1\n",
      "i have had all good experience so far with the second generation echo there are so many more things to learn but i have not had the time yet right now i am mostly enjoying the music weather updates using the alarm feature and her personality i have also purchased some mini smart socket yes i am very excited to begin using them prediction: [0.6746695  0.32533047]0\n",
      "video calls to mom prediction: [0.2703033 0.7296967]1\n",
      "this is pretty cool prediction: [0.47878748 0.5212126 ]1\n",
      "the echo dot was everything that i expected and more prediction: [0.776911   0.22308895]0\n",
      "i have the original alexa and the tap and so far the nd generation is the best im happy to see they are making improvements with each new oneit would be great to have updates to our little ais i think it would help out a lot with the bugs in it all in all i am very happy with her and i can now play music throughout the whole house and adjust the bass and treble thank you prediction: [0.7527017  0.24729836]0\n",
      "new device so still learning about it but works great for us when navigating hulu prediction: [0.37671068 0.62328935]1\n",
      "easy to install prediction: [0.5981809  0.40181908]0\n",
      "loved it no more cable bills for us  i would advise anyone to get one nd one bought prediction: [0.74653035 0.2534696 ]0\n",
      "i love how i can just push the microphone button on the remote and ask it to open any show and itll find whether its on hulu or netflix and sign me in and start the show pretty amazing but each new technology sure is making me lazy or lol  prediction: [0.42560387 0.5743961 ]1\n",
      "ive had the first gen echo since it first came out and it has worked well for me i purchased the nd gen during prime day and so far im happy it seems to have an improved speaker which provides enhanced sound for music and such prediction: [0.5655418  0.43445817]0\n",
      "i had just said to myself how i desired an assistant when i came across the spot  as a mom of two things can get hectic really quickly trying to manage everyones schedules  my own i just verbally tell alexa what reminder or timer i need set and voilahaving my spot has given me the virtual assistant i so desired without having to actually hire someone  not to mention the many other awesome features i have alexa synced with my audible  kindle  alex can read a book from my libraries to meim still excited to see what else my spot can doside note i had wanted to purchase a show for a while  probably still will down the line however i sooooo love my sleek little sopt prediction: [0.75376564 0.24623437]0\n",
      "works well i have several of these recommend to anyone prediction: [0.6152462 0.3847538]0\n",
      "surprisingly handy wish it had more options geared towards it being on your nigh stand like an even dimmer setting prediction: [0.44563168 0.5543683 ]1\n",
      "i was a little nervous when i received my new echo as im not really tech savvy i found it a bit intimidating at first but it didnt take me to long to figure it out im very happy with my purchase and now thinking of adding an echo spot prediction: [0.8124509  0.18754917]0\n",
      "love that is can do so much it sits on my nightstand only improvements i would make is having battery back up capability and the screen could be a tad bigger but overall im happy i have it would recommend prediction: [0.67124724 0.3287528 ]0\n",
      "small speaker tin sound great with good bluetooth speaker prediction: [0.4034208  0.59657913]1\n",
      "the sound from this echo nd generation is phenomenal  not to mention that i just love alexa  she is very helpful prediction: [0.7070431  0.29295692]0\n",
      "works great upgraded from echo dot to full size echo couldnt be happier prediction: [0.9061624  0.09383763]0\n",
      "i highly recommend the spot i have it connected to the kasa camera and it is so convenient to just ask spot to show me the camera when someone is at the door love it as soon as amazon has a good sale on these again i will be getting another one good job amazon prediction: [0.8789909  0.12100911]0\n",
      "easy to use prediction: [0.5897511  0.41024888]0\n",
      "it was easy to use for our bedroom tv prediction: [0.23825537 0.7617447 ]1\n",
      "for a refurbished item it works like its new which i love easy set up  which i love the only issue is the volume  if you are listening while relaxing its fine  but if you are expecting to do anything else  i recommend  purchasing a speaker prediction: [0.21374074 0.7862593 ]1\n",
      "refurbished is the way to go my echo works just like new prediction: [0.14986078 0.85013926]1\n",
      "i like almost everything prediction: [0.19306554 0.8069344 ]1\n"
     ]
    }
   ],
   "source": [
    "for i in range(len(X_test)):\n",
    "    num = np.argmax(pred[i])\n",
    "    if(num != yt[i]):\n",
    "        print( str(X_test[i]) + ' prediction: '+ str(pred[i]) + str(num))"
   ]
  },
  {
   "cell_type": "markdown",
   "metadata": {},
   "source": [
    "# Output"
   ]
  },
  {
   "cell_type": "code",
   "execution_count": 43,
   "metadata": {},
   "outputs": [],
   "source": [
    "pickle.dump(model_w2v, open(MODEL_FILENAME,'wb'))"
   ]
  }
 ],
 "metadata": {
  "kernelspec": {
   "display_name": "Python 3",
   "language": "python",
   "name": "python3"
  },
  "language_info": {
   "codemirror_mode": {
    "name": "ipython",
    "version": 3
   },
   "file_extension": ".py",
   "mimetype": "text/x-python",
   "name": "python",
   "nbconvert_exporter": "python",
   "pygments_lexer": "ipython3",
   "version": "3.7.5"
  }
 },
 "nbformat": 4,
 "nbformat_minor": 2
}
